{
 "cells": [
  {
   "cell_type": "code",
   "id": "initial_id",
   "metadata": {
    "collapsed": true,
    "ExecuteTime": {
     "end_time": "2025-06-04T12:12:41.248524Z",
     "start_time": "2025-06-04T12:12:39.828280Z"
    }
   },
   "source": [
    "import pandas as pd\n",
    "from utils import (\n",
    "    music_genre_clean_up,\n",
    "    divide_dataframe,\n",
    "    get_preprocessor\n",
    ")\n",
    "\n",
    "df = pd.read_csv('../data/music_genre.csv')\n",
    "music_genre_clean_up(df)\n",
    "\n",
    "df"
   ],
   "outputs": [
    {
     "data": {
      "text/plain": [
       "       popularity  acousticness  danceability  duration_ms  energy  \\\n",
       "0            27.0       0.00468         0.652          NaN   0.941   \n",
       "1            31.0       0.01270         0.622     218293.0   0.890   \n",
       "2            28.0       0.00306         0.620     215613.0   0.755   \n",
       "3            34.0       0.02540         0.774     166875.0   0.700   \n",
       "4            32.0       0.00465         0.638     222369.0   0.587   \n",
       "...           ...           ...           ...          ...     ...   \n",
       "50000        59.0       0.03340         0.913          NaN   0.574   \n",
       "50001        72.0       0.15700         0.709     251860.0   0.362   \n",
       "50002        51.0       0.00597         0.693     189483.0   0.763   \n",
       "50003        65.0       0.08310         0.782     262773.0   0.472   \n",
       "50004        67.0       0.10200         0.862     267267.0   0.642   \n",
       "\n",
       "       instrumentalness key  liveness  loudness   mode  speechiness    tempo  \\\n",
       "0               0.79200  A#     0.115    -5.201  Minor       0.0748  100.889   \n",
       "1               0.95000   D     0.124    -7.043  Minor       0.0300  115.002   \n",
       "2               0.01180  G#     0.534    -4.617  Major       0.0345  127.994   \n",
       "3               0.00253  C#     0.157    -4.498  Major       0.2390  128.014   \n",
       "4               0.90900  F#     0.157    -6.266  Major       0.0413  145.036   \n",
       "...                 ...  ..       ...       ...    ...          ...      ...   \n",
       "50000           0.00000  C#     0.119    -7.022  Major       0.2980   98.028   \n",
       "50001           0.00000   B     0.109    -9.814  Major       0.0550  122.043   \n",
       "50002           0.00000   D     0.143    -5.443  Major       0.1460  131.079   \n",
       "50003           0.00000   G     0.106    -5.016  Minor       0.0441   75.886   \n",
       "50004           0.00000  F#     0.272   -13.652  Minor       0.1010   99.201   \n",
       "\n",
       "       valence music_genre  \n",
       "0        0.759  Electronic  \n",
       "1        0.531  Electronic  \n",
       "2        0.333  Electronic  \n",
       "3        0.270  Electronic  \n",
       "4        0.323  Electronic  \n",
       "...        ...         ...  \n",
       "50000    0.330     Hip-Hop  \n",
       "50001    0.113     Hip-Hop  \n",
       "50002    0.395     Hip-Hop  \n",
       "50003    0.354     Hip-Hop  \n",
       "50004    0.765     Hip-Hop  \n",
       "\n",
       "[50000 rows x 14 columns]"
      ],
      "text/html": [
       "<div>\n",
       "<style scoped>\n",
       "    .dataframe tbody tr th:only-of-type {\n",
       "        vertical-align: middle;\n",
       "    }\n",
       "\n",
       "    .dataframe tbody tr th {\n",
       "        vertical-align: top;\n",
       "    }\n",
       "\n",
       "    .dataframe thead th {\n",
       "        text-align: right;\n",
       "    }\n",
       "</style>\n",
       "<table border=\"1\" class=\"dataframe\">\n",
       "  <thead>\n",
       "    <tr style=\"text-align: right;\">\n",
       "      <th></th>\n",
       "      <th>popularity</th>\n",
       "      <th>acousticness</th>\n",
       "      <th>danceability</th>\n",
       "      <th>duration_ms</th>\n",
       "      <th>energy</th>\n",
       "      <th>instrumentalness</th>\n",
       "      <th>key</th>\n",
       "      <th>liveness</th>\n",
       "      <th>loudness</th>\n",
       "      <th>mode</th>\n",
       "      <th>speechiness</th>\n",
       "      <th>tempo</th>\n",
       "      <th>valence</th>\n",
       "      <th>music_genre</th>\n",
       "    </tr>\n",
       "  </thead>\n",
       "  <tbody>\n",
       "    <tr>\n",
       "      <th>0</th>\n",
       "      <td>27.0</td>\n",
       "      <td>0.00468</td>\n",
       "      <td>0.652</td>\n",
       "      <td>NaN</td>\n",
       "      <td>0.941</td>\n",
       "      <td>0.79200</td>\n",
       "      <td>A#</td>\n",
       "      <td>0.115</td>\n",
       "      <td>-5.201</td>\n",
       "      <td>Minor</td>\n",
       "      <td>0.0748</td>\n",
       "      <td>100.889</td>\n",
       "      <td>0.759</td>\n",
       "      <td>Electronic</td>\n",
       "    </tr>\n",
       "    <tr>\n",
       "      <th>1</th>\n",
       "      <td>31.0</td>\n",
       "      <td>0.01270</td>\n",
       "      <td>0.622</td>\n",
       "      <td>218293.0</td>\n",
       "      <td>0.890</td>\n",
       "      <td>0.95000</td>\n",
       "      <td>D</td>\n",
       "      <td>0.124</td>\n",
       "      <td>-7.043</td>\n",
       "      <td>Minor</td>\n",
       "      <td>0.0300</td>\n",
       "      <td>115.002</td>\n",
       "      <td>0.531</td>\n",
       "      <td>Electronic</td>\n",
       "    </tr>\n",
       "    <tr>\n",
       "      <th>2</th>\n",
       "      <td>28.0</td>\n",
       "      <td>0.00306</td>\n",
       "      <td>0.620</td>\n",
       "      <td>215613.0</td>\n",
       "      <td>0.755</td>\n",
       "      <td>0.01180</td>\n",
       "      <td>G#</td>\n",
       "      <td>0.534</td>\n",
       "      <td>-4.617</td>\n",
       "      <td>Major</td>\n",
       "      <td>0.0345</td>\n",
       "      <td>127.994</td>\n",
       "      <td>0.333</td>\n",
       "      <td>Electronic</td>\n",
       "    </tr>\n",
       "    <tr>\n",
       "      <th>3</th>\n",
       "      <td>34.0</td>\n",
       "      <td>0.02540</td>\n",
       "      <td>0.774</td>\n",
       "      <td>166875.0</td>\n",
       "      <td>0.700</td>\n",
       "      <td>0.00253</td>\n",
       "      <td>C#</td>\n",
       "      <td>0.157</td>\n",
       "      <td>-4.498</td>\n",
       "      <td>Major</td>\n",
       "      <td>0.2390</td>\n",
       "      <td>128.014</td>\n",
       "      <td>0.270</td>\n",
       "      <td>Electronic</td>\n",
       "    </tr>\n",
       "    <tr>\n",
       "      <th>4</th>\n",
       "      <td>32.0</td>\n",
       "      <td>0.00465</td>\n",
       "      <td>0.638</td>\n",
       "      <td>222369.0</td>\n",
       "      <td>0.587</td>\n",
       "      <td>0.90900</td>\n",
       "      <td>F#</td>\n",
       "      <td>0.157</td>\n",
       "      <td>-6.266</td>\n",
       "      <td>Major</td>\n",
       "      <td>0.0413</td>\n",
       "      <td>145.036</td>\n",
       "      <td>0.323</td>\n",
       "      <td>Electronic</td>\n",
       "    </tr>\n",
       "    <tr>\n",
       "      <th>...</th>\n",
       "      <td>...</td>\n",
       "      <td>...</td>\n",
       "      <td>...</td>\n",
       "      <td>...</td>\n",
       "      <td>...</td>\n",
       "      <td>...</td>\n",
       "      <td>...</td>\n",
       "      <td>...</td>\n",
       "      <td>...</td>\n",
       "      <td>...</td>\n",
       "      <td>...</td>\n",
       "      <td>...</td>\n",
       "      <td>...</td>\n",
       "      <td>...</td>\n",
       "    </tr>\n",
       "    <tr>\n",
       "      <th>50000</th>\n",
       "      <td>59.0</td>\n",
       "      <td>0.03340</td>\n",
       "      <td>0.913</td>\n",
       "      <td>NaN</td>\n",
       "      <td>0.574</td>\n",
       "      <td>0.00000</td>\n",
       "      <td>C#</td>\n",
       "      <td>0.119</td>\n",
       "      <td>-7.022</td>\n",
       "      <td>Major</td>\n",
       "      <td>0.2980</td>\n",
       "      <td>98.028</td>\n",
       "      <td>0.330</td>\n",
       "      <td>Hip-Hop</td>\n",
       "    </tr>\n",
       "    <tr>\n",
       "      <th>50001</th>\n",
       "      <td>72.0</td>\n",
       "      <td>0.15700</td>\n",
       "      <td>0.709</td>\n",
       "      <td>251860.0</td>\n",
       "      <td>0.362</td>\n",
       "      <td>0.00000</td>\n",
       "      <td>B</td>\n",
       "      <td>0.109</td>\n",
       "      <td>-9.814</td>\n",
       "      <td>Major</td>\n",
       "      <td>0.0550</td>\n",
       "      <td>122.043</td>\n",
       "      <td>0.113</td>\n",
       "      <td>Hip-Hop</td>\n",
       "    </tr>\n",
       "    <tr>\n",
       "      <th>50002</th>\n",
       "      <td>51.0</td>\n",
       "      <td>0.00597</td>\n",
       "      <td>0.693</td>\n",
       "      <td>189483.0</td>\n",
       "      <td>0.763</td>\n",
       "      <td>0.00000</td>\n",
       "      <td>D</td>\n",
       "      <td>0.143</td>\n",
       "      <td>-5.443</td>\n",
       "      <td>Major</td>\n",
       "      <td>0.1460</td>\n",
       "      <td>131.079</td>\n",
       "      <td>0.395</td>\n",
       "      <td>Hip-Hop</td>\n",
       "    </tr>\n",
       "    <tr>\n",
       "      <th>50003</th>\n",
       "      <td>65.0</td>\n",
       "      <td>0.08310</td>\n",
       "      <td>0.782</td>\n",
       "      <td>262773.0</td>\n",
       "      <td>0.472</td>\n",
       "      <td>0.00000</td>\n",
       "      <td>G</td>\n",
       "      <td>0.106</td>\n",
       "      <td>-5.016</td>\n",
       "      <td>Minor</td>\n",
       "      <td>0.0441</td>\n",
       "      <td>75.886</td>\n",
       "      <td>0.354</td>\n",
       "      <td>Hip-Hop</td>\n",
       "    </tr>\n",
       "    <tr>\n",
       "      <th>50004</th>\n",
       "      <td>67.0</td>\n",
       "      <td>0.10200</td>\n",
       "      <td>0.862</td>\n",
       "      <td>267267.0</td>\n",
       "      <td>0.642</td>\n",
       "      <td>0.00000</td>\n",
       "      <td>F#</td>\n",
       "      <td>0.272</td>\n",
       "      <td>-13.652</td>\n",
       "      <td>Minor</td>\n",
       "      <td>0.1010</td>\n",
       "      <td>99.201</td>\n",
       "      <td>0.765</td>\n",
       "      <td>Hip-Hop</td>\n",
       "    </tr>\n",
       "  </tbody>\n",
       "</table>\n",
       "<p>50000 rows × 14 columns</p>\n",
       "</div>"
      ]
     },
     "execution_count": 1,
     "metadata": {},
     "output_type": "execute_result"
    }
   ],
   "execution_count": 1
  },
  {
   "metadata": {
    "ExecuteTime": {
     "end_time": "2025-06-04T12:12:41.480201Z",
     "start_time": "2025-06-04T12:12:41.470640Z"
    }
   },
   "cell_type": "code",
   "source": [
    "TARGET = 'music_genre'\n",
    "\n",
    "X, y, num, cat = divide_dataframe(df, TARGET)\n",
    "\n",
    "print(num)\n",
    "print(cat)"
   ],
   "id": "9f7a29c933083208",
   "outputs": [
    {
     "name": "stdout",
     "output_type": "stream",
     "text": [
      "['popularity', 'acousticness', 'danceability', 'duration_ms', 'energy', 'instrumentalness', 'liveness', 'loudness', 'speechiness', 'tempo', 'valence']\n",
      "['key', 'mode']\n"
     ]
    }
   ],
   "execution_count": 2
  },
  {
   "metadata": {
    "ExecuteTime": {
     "end_time": "2025-06-04T12:12:41.520176Z",
     "start_time": "2025-06-04T12:12:41.517100Z"
    }
   },
   "cell_type": "code",
   "source": "preprocessor = get_preprocessor(num, cat)",
   "id": "6ec417e933453eba",
   "outputs": [],
   "execution_count": 3
  },
  {
   "metadata": {},
   "cell_type": "markdown",
   "source": [
    "## Cross Validation with StratifiedKFold\n",
    "I will use my Logistic regression, Random Forest, SVC and K nearest neighbours"
   ],
   "id": "24d1b303319f0322"
  },
  {
   "metadata": {
    "ExecuteTime": {
     "end_time": "2025-06-04T12:12:41.697547Z",
     "start_time": "2025-06-04T12:12:41.658696Z"
    }
   },
   "cell_type": "code",
   "source": [
    "from sklearn.pipeline import Pipeline\n",
    "from MyImplementations.SoftmaxRegression import SoftmaxRegression\n",
    "from sklearn.ensemble import RandomForestClassifier\n",
    "from sklearn.svm import SVC\n",
    "from sklearn.model_selection import cross_val_score, StratifiedKFold\n",
    "from sklearn.neighbors import KNeighborsClassifier\n",
    "from sklearn.linear_model import SGDClassifier\n",
    "\n",
    "skf = StratifiedKFold(n_splits=3, shuffle=True)"
   ],
   "id": "fb5e53e7f6fe9def",
   "outputs": [],
   "execution_count": 4
  },
  {
   "metadata": {
    "ExecuteTime": {
     "end_time": "2025-06-04T12:12:41.722245Z",
     "start_time": "2025-06-04T12:12:41.720054Z"
    }
   },
   "cell_type": "code",
   "source": [
    "rand_forest = Pipeline([\n",
    "    ('preprocessing', preprocessor),\n",
    "    ('model', RandomForestClassifier())\n",
    "])"
   ],
   "id": "f009882a0135d6a3",
   "outputs": [],
   "execution_count": 5
  },
  {
   "metadata": {
    "ExecuteTime": {
     "end_time": "2025-06-04T12:12:41.765210Z",
     "start_time": "2025-06-04T12:12:41.762660Z"
    }
   },
   "cell_type": "code",
   "source": [
    "svc = Pipeline([\n",
    "    ('preprocessing', preprocessor),\n",
    "    ('model', SVC())\n",
    "])"
   ],
   "id": "ac600cc3ede0229c",
   "outputs": [],
   "execution_count": 6
  },
  {
   "metadata": {
    "ExecuteTime": {
     "end_time": "2025-06-04T12:12:41.824938Z",
     "start_time": "2025-06-04T12:12:41.822461Z"
    }
   },
   "cell_type": "code",
   "source": [
    "knn = Pipeline([\n",
    "    ('preprocessing', preprocessor),\n",
    "    ('model', KNeighborsClassifier(n_neighbors=100))\n",
    "])"
   ],
   "id": "bfd926e012b668fb",
   "outputs": [],
   "execution_count": 7
  },
  {
   "metadata": {
    "ExecuteTime": {
     "end_time": "2025-06-04T12:12:41.899841Z",
     "start_time": "2025-06-04T12:12:41.897200Z"
    }
   },
   "cell_type": "code",
   "source": [
    "my_log_reg = Pipeline([\n",
    "    ('preprocessing', preprocessor),\n",
    "    ('model', SoftmaxRegression())\n",
    "])"
   ],
   "id": "4c27867b9c0fce18",
   "outputs": [],
   "execution_count": 8
  },
  {
   "metadata": {
    "ExecuteTime": {
     "end_time": "2025-06-04T12:12:41.992513Z",
     "start_time": "2025-06-04T12:12:41.990325Z"
    }
   },
   "cell_type": "code",
   "source": [
    "log_reg = Pipeline([\n",
    "    ('preprocessing', preprocessor),\n",
    "    ('model', SGDClassifier())\n",
    "])"
   ],
   "id": "b9dee7825ae66241",
   "outputs": [],
   "execution_count": 9
  },
  {
   "metadata": {
    "ExecuteTime": {
     "end_time": "2025-06-04T12:15:29.770495Z",
     "start_time": "2025-06-04T12:12:42.101294Z"
    }
   },
   "cell_type": "code",
   "source": [
    "print(f'RandomForest: {cross_val_score(rand_forest, X, y, cv=skf, scoring='accuracy')}')\n",
    "print(f'SVC: {cross_val_score(svc, X, y, cv=skf, scoring='accuracy')}')\n",
    "print(f'100 Nearest neighbours: {cross_val_score(knn, X, y, cv=skf, scoring='accuracy')}')\n",
    "print(f'My logistic regression: {cross_val_score(my_log_reg, X, y, cv=skf, scoring='accuracy')}')\n",
    "print(f'Build in logistic regression: {cross_val_score(log_reg, X, y, cv=skf, scoring='accuracy')}')"
   ],
   "id": "1f70b6060c82e855",
   "outputs": [
    {
     "name": "stdout",
     "output_type": "stream",
     "text": [
      "RandomForest: [0.54652907 0.54688906 0.55160206]\n",
      "SVC: [0.57550849 0.57592848 0.57614305]\n",
      "100 Nearest neighbours: [0.52342953 0.5302094  0.51650066]\n",
      "My logistic regression: [0.48947021 0.48929021 0.48973959]\n",
      "Build in logistic regression: [0.44915102 0.42857143 0.4374175 ]\n"
     ]
    }
   ],
   "execution_count": 10
  },
  {
   "metadata": {},
   "cell_type": "markdown",
   "source": [
    "### Key takeaways:\n",
    "- accuracy is similar for every subset => the data set is well-balanced"
   ],
   "id": "24f7743d9e1deacb"
  }
 ],
 "metadata": {
  "kernelspec": {
   "display_name": "Python 3",
   "language": "python",
   "name": "python3"
  },
  "language_info": {
   "codemirror_mode": {
    "name": "ipython",
    "version": 2
   },
   "file_extension": ".py",
   "mimetype": "text/x-python",
   "name": "python",
   "nbconvert_exporter": "python",
   "pygments_lexer": "ipython2",
   "version": "2.7.6"
  }
 },
 "nbformat": 4,
 "nbformat_minor": 5
}
